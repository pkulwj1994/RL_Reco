{
  "cells": [
    {
      "cell_type": "code",
      "source": [
        "!git clone https://github.com/pkulwj1994/RL_Reco.git\n",
        "!cp -a /content/RL_Reco/. /content/."
      ],
      "metadata": {
        "colab": {
          "base_uri": "https://localhost:8080/"
        },
        "id": "OFZWfauASYNU",
        "outputId": "51f632c1-4df6-4168-c792-cb0e98e8d5f4"
      },
      "execution_count": 1,
      "outputs": [
        {
          "output_type": "stream",
          "name": "stdout",
          "text": [
            "Cloning into 'Recommender_system_via_deep_RL'...\n",
            "remote: Enumerating objects: 400, done.\u001b[K\n",
            "remote: Counting objects: 100% (400/400), done.\u001b[K\n",
            "remote: Compressing objects: 100% (286/286), done.\u001b[K\n",
            "remote: Total 400 (delta 213), reused 287 (delta 111), pack-reused 0\u001b[K\n",
            "Receiving objects: 100% (400/400), 58.37 MiB | 27.56 MiB/s, done.\n",
            "Resolving deltas: 100% (213/213), done.\n"
          ]
        }
      ]
    },
    {
      "cell_type": "code",
      "source": [
        "!pip install wandb\n",
        "!wget https://files.grouplens.org/datasets/movielens/ml-1m.zip\n",
        "!unzip ./ml-1m.zip"
      ],
      "metadata": {
        "colab": {
          "base_uri": "https://localhost:8080/"
        },
        "id": "hcPWDqcOSssd",
        "outputId": "c5f31596-d578-43ae-d759-7ee6ae78e7f0"
      },
      "execution_count": 2,
      "outputs": [
        {
          "output_type": "stream",
          "name": "stdout",
          "text": [
            "Collecting wandb\n",
            "  Downloading wandb-0.12.9-py2.py3-none-any.whl (1.7 MB)\n",
            "\u001b[?25l\r\u001b[K     |▏                               | 10 kB 36.5 MB/s eta 0:00:01\r\u001b[K     |▍                               | 20 kB 30.7 MB/s eta 0:00:01\r\u001b[K     |▋                               | 30 kB 18.5 MB/s eta 0:00:01\r\u001b[K     |▊                               | 40 kB 15.8 MB/s eta 0:00:01\r\u001b[K     |█                               | 51 kB 10.3 MB/s eta 0:00:01\r\u001b[K     |█▏                              | 61 kB 11.4 MB/s eta 0:00:01\r\u001b[K     |█▍                              | 71 kB 10.1 MB/s eta 0:00:01\r\u001b[K     |█▌                              | 81 kB 11.2 MB/s eta 0:00:01\r\u001b[K     |█▊                              | 92 kB 11.6 MB/s eta 0:00:01\r\u001b[K     |██                              | 102 kB 9.9 MB/s eta 0:00:01\r\u001b[K     |██                              | 112 kB 9.9 MB/s eta 0:00:01\r\u001b[K     |██▎                             | 122 kB 9.9 MB/s eta 0:00:01\r\u001b[K     |██▌                             | 133 kB 9.9 MB/s eta 0:00:01\r\u001b[K     |██▊                             | 143 kB 9.9 MB/s eta 0:00:01\r\u001b[K     |██▉                             | 153 kB 9.9 MB/s eta 0:00:01\r\u001b[K     |███                             | 163 kB 9.9 MB/s eta 0:00:01\r\u001b[K     |███▎                            | 174 kB 9.9 MB/s eta 0:00:01\r\u001b[K     |███▍                            | 184 kB 9.9 MB/s eta 0:00:01\r\u001b[K     |███▋                            | 194 kB 9.9 MB/s eta 0:00:01\r\u001b[K     |███▉                            | 204 kB 9.9 MB/s eta 0:00:01\r\u001b[K     |████                            | 215 kB 9.9 MB/s eta 0:00:01\r\u001b[K     |████▏                           | 225 kB 9.9 MB/s eta 0:00:01\r\u001b[K     |████▍                           | 235 kB 9.9 MB/s eta 0:00:01\r\u001b[K     |████▋                           | 245 kB 9.9 MB/s eta 0:00:01\r\u001b[K     |████▉                           | 256 kB 9.9 MB/s eta 0:00:01\r\u001b[K     |█████                           | 266 kB 9.9 MB/s eta 0:00:01\r\u001b[K     |█████▏                          | 276 kB 9.9 MB/s eta 0:00:01\r\u001b[K     |█████▍                          | 286 kB 9.9 MB/s eta 0:00:01\r\u001b[K     |█████▌                          | 296 kB 9.9 MB/s eta 0:00:01\r\u001b[K     |█████▊                          | 307 kB 9.9 MB/s eta 0:00:01\r\u001b[K     |██████                          | 317 kB 9.9 MB/s eta 0:00:01\r\u001b[K     |██████▏                         | 327 kB 9.9 MB/s eta 0:00:01\r\u001b[K     |██████▎                         | 337 kB 9.9 MB/s eta 0:00:01\r\u001b[K     |██████▌                         | 348 kB 9.9 MB/s eta 0:00:01\r\u001b[K     |██████▊                         | 358 kB 9.9 MB/s eta 0:00:01\r\u001b[K     |██████▉                         | 368 kB 9.9 MB/s eta 0:00:01\r\u001b[K     |███████                         | 378 kB 9.9 MB/s eta 0:00:01\r\u001b[K     |███████▎                        | 389 kB 9.9 MB/s eta 0:00:01\r\u001b[K     |███████▌                        | 399 kB 9.9 MB/s eta 0:00:01\r\u001b[K     |███████▋                        | 409 kB 9.9 MB/s eta 0:00:01\r\u001b[K     |███████▉                        | 419 kB 9.9 MB/s eta 0:00:01\r\u001b[K     |████████                        | 430 kB 9.9 MB/s eta 0:00:01\r\u001b[K     |████████▎                       | 440 kB 9.9 MB/s eta 0:00:01\r\u001b[K     |████████▍                       | 450 kB 9.9 MB/s eta 0:00:01\r\u001b[K     |████████▋                       | 460 kB 9.9 MB/s eta 0:00:01\r\u001b[K     |████████▉                       | 471 kB 9.9 MB/s eta 0:00:01\r\u001b[K     |█████████                       | 481 kB 9.9 MB/s eta 0:00:01\r\u001b[K     |█████████▏                      | 491 kB 9.9 MB/s eta 0:00:01\r\u001b[K     |█████████▍                      | 501 kB 9.9 MB/s eta 0:00:01\r\u001b[K     |█████████▋                      | 512 kB 9.9 MB/s eta 0:00:01\r\u001b[K     |█████████▊                      | 522 kB 9.9 MB/s eta 0:00:01\r\u001b[K     |██████████                      | 532 kB 9.9 MB/s eta 0:00:01\r\u001b[K     |██████████▏                     | 542 kB 9.9 MB/s eta 0:00:01\r\u001b[K     |██████████▎                     | 552 kB 9.9 MB/s eta 0:00:01\r\u001b[K     |██████████▌                     | 563 kB 9.9 MB/s eta 0:00:01\r\u001b[K     |██████████▊                     | 573 kB 9.9 MB/s eta 0:00:01\r\u001b[K     |███████████                     | 583 kB 9.9 MB/s eta 0:00:01\r\u001b[K     |███████████                     | 593 kB 9.9 MB/s eta 0:00:01\r\u001b[K     |███████████▎                    | 604 kB 9.9 MB/s eta 0:00:01\r\u001b[K     |███████████▌                    | 614 kB 9.9 MB/s eta 0:00:01\r\u001b[K     |███████████▋                    | 624 kB 9.9 MB/s eta 0:00:01\r\u001b[K     |███████████▉                    | 634 kB 9.9 MB/s eta 0:00:01\r\u001b[K     |████████████                    | 645 kB 9.9 MB/s eta 0:00:01\r\u001b[K     |████████████▎                   | 655 kB 9.9 MB/s eta 0:00:01\r\u001b[K     |████████████▍                   | 665 kB 9.9 MB/s eta 0:00:01\r\u001b[K     |████████████▋                   | 675 kB 9.9 MB/s eta 0:00:01\r\u001b[K     |████████████▉                   | 686 kB 9.9 MB/s eta 0:00:01\r\u001b[K     |█████████████                   | 696 kB 9.9 MB/s eta 0:00:01\r\u001b[K     |█████████████▏                  | 706 kB 9.9 MB/s eta 0:00:01\r\u001b[K     |█████████████▍                  | 716 kB 9.9 MB/s eta 0:00:01\r\u001b[K     |█████████████▋                  | 727 kB 9.9 MB/s eta 0:00:01\r\u001b[K     |█████████████▊                  | 737 kB 9.9 MB/s eta 0:00:01\r\u001b[K     |██████████████                  | 747 kB 9.9 MB/s eta 0:00:01\r\u001b[K     |██████████████▏                 | 757 kB 9.9 MB/s eta 0:00:01\r\u001b[K     |██████████████▍                 | 768 kB 9.9 MB/s eta 0:00:01\r\u001b[K     |██████████████▌                 | 778 kB 9.9 MB/s eta 0:00:01\r\u001b[K     |██████████████▊                 | 788 kB 9.9 MB/s eta 0:00:01\r\u001b[K     |███████████████                 | 798 kB 9.9 MB/s eta 0:00:01\r\u001b[K     |███████████████                 | 808 kB 9.9 MB/s eta 0:00:01\r\u001b[K     |███████████████▎                | 819 kB 9.9 MB/s eta 0:00:01\r\u001b[K     |███████████████▌                | 829 kB 9.9 MB/s eta 0:00:01\r\u001b[K     |███████████████▊                | 839 kB 9.9 MB/s eta 0:00:01\r\u001b[K     |███████████████▉                | 849 kB 9.9 MB/s eta 0:00:01\r\u001b[K     |████████████████                | 860 kB 9.9 MB/s eta 0:00:01\r\u001b[K     |████████████████▎               | 870 kB 9.9 MB/s eta 0:00:01\r\u001b[K     |████████████████▌               | 880 kB 9.9 MB/s eta 0:00:01\r\u001b[K     |████████████████▋               | 890 kB 9.9 MB/s eta 0:00:01\r\u001b[K     |████████████████▉               | 901 kB 9.9 MB/s eta 0:00:01\r\u001b[K     |█████████████████               | 911 kB 9.9 MB/s eta 0:00:01\r\u001b[K     |█████████████████▏              | 921 kB 9.9 MB/s eta 0:00:01\r\u001b[K     |█████████████████▍              | 931 kB 9.9 MB/s eta 0:00:01\r\u001b[K     |█████████████████▋              | 942 kB 9.9 MB/s eta 0:00:01\r\u001b[K     |█████████████████▉              | 952 kB 9.9 MB/s eta 0:00:01\r\u001b[K     |██████████████████              | 962 kB 9.9 MB/s eta 0:00:01\r\u001b[K     |██████████████████▏             | 972 kB 9.9 MB/s eta 0:00:01\r\u001b[K     |██████████████████▍             | 983 kB 9.9 MB/s eta 0:00:01\r\u001b[K     |██████████████████▌             | 993 kB 9.9 MB/s eta 0:00:01\r\u001b[K     |██████████████████▊             | 1.0 MB 9.9 MB/s eta 0:00:01\r\u001b[K     |███████████████████             | 1.0 MB 9.9 MB/s eta 0:00:01\r\u001b[K     |███████████████████▏            | 1.0 MB 9.9 MB/s eta 0:00:01\r\u001b[K     |███████████████████▎            | 1.0 MB 9.9 MB/s eta 0:00:01\r\u001b[K     |███████████████████▌            | 1.0 MB 9.9 MB/s eta 0:00:01\r\u001b[K     |███████████████████▊            | 1.1 MB 9.9 MB/s eta 0:00:01\r\u001b[K     |███████████████████▉            | 1.1 MB 9.9 MB/s eta 0:00:01\r\u001b[K     |████████████████████            | 1.1 MB 9.9 MB/s eta 0:00:01\r\u001b[K     |████████████████████▎           | 1.1 MB 9.9 MB/s eta 0:00:01\r\u001b[K     |████████████████████▌           | 1.1 MB 9.9 MB/s eta 0:00:01\r\u001b[K     |████████████████████▋           | 1.1 MB 9.9 MB/s eta 0:00:01\r\u001b[K     |████████████████████▉           | 1.1 MB 9.9 MB/s eta 0:00:01\r\u001b[K     |█████████████████████           | 1.1 MB 9.9 MB/s eta 0:00:01\r\u001b[K     |█████████████████████▎          | 1.1 MB 9.9 MB/s eta 0:00:01\r\u001b[K     |█████████████████████▍          | 1.1 MB 9.9 MB/s eta 0:00:01\r\u001b[K     |█████████████████████▋          | 1.2 MB 9.9 MB/s eta 0:00:01\r\u001b[K     |█████████████████████▉          | 1.2 MB 9.9 MB/s eta 0:00:01\r\u001b[K     |██████████████████████          | 1.2 MB 9.9 MB/s eta 0:00:01\r\u001b[K     |██████████████████████▏         | 1.2 MB 9.9 MB/s eta 0:00:01\r\u001b[K     |██████████████████████▍         | 1.2 MB 9.9 MB/s eta 0:00:01\r\u001b[K     |██████████████████████▋         | 1.2 MB 9.9 MB/s eta 0:00:01\r\u001b[K     |██████████████████████▊         | 1.2 MB 9.9 MB/s eta 0:00:01\r\u001b[K     |███████████████████████         | 1.2 MB 9.9 MB/s eta 0:00:01\r\u001b[K     |███████████████████████▏        | 1.2 MB 9.9 MB/s eta 0:00:01\r\u001b[K     |███████████████████████▎        | 1.2 MB 9.9 MB/s eta 0:00:01\r\u001b[K     |███████████████████████▌        | 1.3 MB 9.9 MB/s eta 0:00:01\r\u001b[K     |███████████████████████▊        | 1.3 MB 9.9 MB/s eta 0:00:01\r\u001b[K     |████████████████████████        | 1.3 MB 9.9 MB/s eta 0:00:01\r\u001b[K     |████████████████████████        | 1.3 MB 9.9 MB/s eta 0:00:01\r\u001b[K     |████████████████████████▎       | 1.3 MB 9.9 MB/s eta 0:00:01\r\u001b[K     |████████████████████████▌       | 1.3 MB 9.9 MB/s eta 0:00:01\r\u001b[K     |████████████████████████▊       | 1.3 MB 9.9 MB/s eta 0:00:01\r\u001b[K     |████████████████████████▉       | 1.3 MB 9.9 MB/s eta 0:00:01\r\u001b[K     |█████████████████████████       | 1.3 MB 9.9 MB/s eta 0:00:01\r\u001b[K     |█████████████████████████▎      | 1.4 MB 9.9 MB/s eta 0:00:01\r\u001b[K     |█████████████████████████▍      | 1.4 MB 9.9 MB/s eta 0:00:01\r\u001b[K     |█████████████████████████▋      | 1.4 MB 9.9 MB/s eta 0:00:01\r\u001b[K     |█████████████████████████▉      | 1.4 MB 9.9 MB/s eta 0:00:01\r\u001b[K     |██████████████████████████      | 1.4 MB 9.9 MB/s eta 0:00:01\r\u001b[K     |██████████████████████████▏     | 1.4 MB 9.9 MB/s eta 0:00:01\r\u001b[K     |██████████████████████████▍     | 1.4 MB 9.9 MB/s eta 0:00:01\r\u001b[K     |██████████████████████████▋     | 1.4 MB 9.9 MB/s eta 0:00:01\r\u001b[K     |██████████████████████████▊     | 1.4 MB 9.9 MB/s eta 0:00:01\r\u001b[K     |███████████████████████████     | 1.4 MB 9.9 MB/s eta 0:00:01\r\u001b[K     |███████████████████████████▏    | 1.5 MB 9.9 MB/s eta 0:00:01\r\u001b[K     |███████████████████████████▍    | 1.5 MB 9.9 MB/s eta 0:00:01\r\u001b[K     |███████████████████████████▌    | 1.5 MB 9.9 MB/s eta 0:00:01\r\u001b[K     |███████████████████████████▊    | 1.5 MB 9.9 MB/s eta 0:00:01\r\u001b[K     |████████████████████████████    | 1.5 MB 9.9 MB/s eta 0:00:01\r\u001b[K     |████████████████████████████▏   | 1.5 MB 9.9 MB/s eta 0:00:01\r\u001b[K     |████████████████████████████▎   | 1.5 MB 9.9 MB/s eta 0:00:01\r\u001b[K     |████████████████████████████▌   | 1.5 MB 9.9 MB/s eta 0:00:01\r\u001b[K     |████████████████████████████▊   | 1.5 MB 9.9 MB/s eta 0:00:01\r\u001b[K     |████████████████████████████▉   | 1.5 MB 9.9 MB/s eta 0:00:01\r\u001b[K     |█████████████████████████████   | 1.6 MB 9.9 MB/s eta 0:00:01\r\u001b[K     |█████████████████████████████▎  | 1.6 MB 9.9 MB/s eta 0:00:01\r\u001b[K     |█████████████████████████████▌  | 1.6 MB 9.9 MB/s eta 0:00:01\r\u001b[K     |█████████████████████████████▋  | 1.6 MB 9.9 MB/s eta 0:00:01\r\u001b[K     |█████████████████████████████▉  | 1.6 MB 9.9 MB/s eta 0:00:01\r\u001b[K     |██████████████████████████████  | 1.6 MB 9.9 MB/s eta 0:00:01\r\u001b[K     |██████████████████████████████▏ | 1.6 MB 9.9 MB/s eta 0:00:01\r\u001b[K     |██████████████████████████████▍ | 1.6 MB 9.9 MB/s eta 0:00:01\r\u001b[K     |██████████████████████████████▋ | 1.6 MB 9.9 MB/s eta 0:00:01\r\u001b[K     |██████████████████████████████▉ | 1.6 MB 9.9 MB/s eta 0:00:01\r\u001b[K     |███████████████████████████████ | 1.7 MB 9.9 MB/s eta 0:00:01\r\u001b[K     |███████████████████████████████▏| 1.7 MB 9.9 MB/s eta 0:00:01\r\u001b[K     |███████████████████████████████▍| 1.7 MB 9.9 MB/s eta 0:00:01\r\u001b[K     |███████████████████████████████▌| 1.7 MB 9.9 MB/s eta 0:00:01\r\u001b[K     |███████████████████████████████▊| 1.7 MB 9.9 MB/s eta 0:00:01\r\u001b[K     |████████████████████████████████| 1.7 MB 9.9 MB/s eta 0:00:01\r\u001b[K     |████████████████████████████████| 1.7 MB 9.9 MB/s \n",
            "\u001b[?25hCollecting shortuuid>=0.5.0\n",
            "  Downloading shortuuid-1.0.8-py3-none-any.whl (9.5 kB)\n",
            "Requirement already satisfied: protobuf>=3.12.0 in /usr/local/lib/python3.7/dist-packages (from wandb) (3.17.3)\n",
            "Collecting pathtools\n",
            "  Downloading pathtools-0.1.2.tar.gz (11 kB)\n",
            "Collecting sentry-sdk>=1.0.0\n",
            "  Downloading sentry_sdk-1.5.3-py2.py3-none-any.whl (142 kB)\n",
            "\u001b[K     |████████████████████████████████| 142 kB 64.4 MB/s \n",
            "\u001b[?25hCollecting yaspin>=1.0.0\n",
            "  Downloading yaspin-2.1.0-py3-none-any.whl (18 kB)\n",
            "Requirement already satisfied: Click!=8.0.0,>=7.0 in /usr/local/lib/python3.7/dist-packages (from wandb) (7.1.2)\n",
            "Requirement already satisfied: requests<3,>=2.0.0 in /usr/local/lib/python3.7/dist-packages (from wandb) (2.23.0)\n",
            "Requirement already satisfied: python-dateutil>=2.6.1 in /usr/local/lib/python3.7/dist-packages (from wandb) (2.8.2)\n",
            "Collecting subprocess32>=3.5.3\n",
            "  Downloading subprocess32-3.5.4.tar.gz (97 kB)\n",
            "\u001b[K     |████████████████████████████████| 97 kB 6.8 MB/s \n",
            "\u001b[?25hCollecting configparser>=3.8.1\n",
            "  Downloading configparser-5.2.0-py3-none-any.whl (19 kB)\n",
            "Requirement already satisfied: psutil>=5.0.0 in /usr/local/lib/python3.7/dist-packages (from wandb) (5.4.8)\n",
            "Collecting GitPython>=1.0.0\n",
            "  Downloading GitPython-3.1.26-py3-none-any.whl (180 kB)\n",
            "\u001b[K     |████████████████████████████████| 180 kB 66.8 MB/s \n",
            "\u001b[?25hRequirement already satisfied: PyYAML in /usr/local/lib/python3.7/dist-packages (from wandb) (3.13)\n",
            "Collecting docker-pycreds>=0.4.0\n",
            "  Downloading docker_pycreds-0.4.0-py2.py3-none-any.whl (9.0 kB)\n",
            "Requirement already satisfied: promise<3,>=2.0 in /usr/local/lib/python3.7/dist-packages (from wandb) (2.3)\n",
            "Requirement already satisfied: six>=1.13.0 in /usr/local/lib/python3.7/dist-packages (from wandb) (1.15.0)\n",
            "Requirement already satisfied: typing-extensions>=3.7.4.3 in /usr/local/lib/python3.7/dist-packages (from GitPython>=1.0.0->wandb) (3.10.0.2)\n",
            "Collecting gitdb<5,>=4.0.1\n",
            "  Downloading gitdb-4.0.9-py3-none-any.whl (63 kB)\n",
            "\u001b[K     |████████████████████████████████| 63 kB 2.0 MB/s \n",
            "\u001b[?25hCollecting smmap<6,>=3.0.1\n",
            "  Downloading smmap-5.0.0-py3-none-any.whl (24 kB)\n",
            "Requirement already satisfied: urllib3!=1.25.0,!=1.25.1,<1.26,>=1.21.1 in /usr/local/lib/python3.7/dist-packages (from requests<3,>=2.0.0->wandb) (1.24.3)\n",
            "Requirement already satisfied: certifi>=2017.4.17 in /usr/local/lib/python3.7/dist-packages (from requests<3,>=2.0.0->wandb) (2021.10.8)\n",
            "Requirement already satisfied: idna<3,>=2.5 in /usr/local/lib/python3.7/dist-packages (from requests<3,>=2.0.0->wandb) (2.10)\n",
            "Requirement already satisfied: chardet<4,>=3.0.2 in /usr/local/lib/python3.7/dist-packages (from requests<3,>=2.0.0->wandb) (3.0.4)\n",
            "Requirement already satisfied: termcolor<2.0.0,>=1.1.0 in /usr/local/lib/python3.7/dist-packages (from yaspin>=1.0.0->wandb) (1.1.0)\n",
            "Building wheels for collected packages: subprocess32, pathtools\n",
            "  Building wheel for subprocess32 (setup.py) ... \u001b[?25l\u001b[?25hdone\n",
            "  Created wheel for subprocess32: filename=subprocess32-3.5.4-py3-none-any.whl size=6502 sha256=6174785da810de8bcce3981cb10da12094b0d7461017aefd6565ff974689e637\n",
            "  Stored in directory: /root/.cache/pip/wheels/50/ca/fa/8fca8d246e64f19488d07567547ddec8eb084e8c0d7a59226a\n",
            "  Building wheel for pathtools (setup.py) ... \u001b[?25l\u001b[?25hdone\n",
            "  Created wheel for pathtools: filename=pathtools-0.1.2-py3-none-any.whl size=8806 sha256=33461c1c5859c04d1c695fb4b4c41650b50ed132593b9cebd7bdcb89f3f9c32d\n",
            "  Stored in directory: /root/.cache/pip/wheels/3e/31/09/fa59cef12cdcfecc627b3d24273699f390e71828921b2cbba2\n",
            "Successfully built subprocess32 pathtools\n",
            "Installing collected packages: smmap, gitdb, yaspin, subprocess32, shortuuid, sentry-sdk, pathtools, GitPython, docker-pycreds, configparser, wandb\n",
            "Successfully installed GitPython-3.1.26 configparser-5.2.0 docker-pycreds-0.4.0 gitdb-4.0.9 pathtools-0.1.2 sentry-sdk-1.5.3 shortuuid-1.0.8 smmap-5.0.0 subprocess32-3.5.4 wandb-0.12.9 yaspin-2.1.0\n",
            "--2022-01-22 14:12:57--  https://files.grouplens.org/datasets/movielens/ml-1m.zip\n",
            "Resolving files.grouplens.org (files.grouplens.org)... 128.101.65.152\n",
            "Connecting to files.grouplens.org (files.grouplens.org)|128.101.65.152|:443... connected.\n",
            "HTTP request sent, awaiting response... 200 OK\n",
            "Length: 5917549 (5.6M) [application/zip]\n",
            "Saving to: ‘ml-1m.zip’\n",
            "\n",
            "ml-1m.zip           100%[===================>]   5.64M  12.5MB/s    in 0.5s    \n",
            "\n",
            "2022-01-22 14:12:58 (12.5 MB/s) - ‘ml-1m.zip’ saved [5917549/5917549]\n",
            "\n",
            "Archive:  ./ml-1m.zip\n",
            "   creating: ml-1m/\n",
            "  inflating: ml-1m/movies.dat        \n",
            "  inflating: ml-1m/ratings.dat       \n",
            "  inflating: ml-1m/README            \n",
            "  inflating: ml-1m/users.dat         \n"
          ]
        }
      ]
    },
    {
      "cell_type": "code",
      "execution_count": 4,
      "metadata": {
        "id": "r1NmejTIFPtf"
      },
      "outputs": [],
      "source": [
        "#Dependencies\n",
        "import pandas as pd\n",
        "import numpy as np\n",
        "import tensorflow as tf\n",
        "import itertools\n",
        "import matplotlib.pyplot as plt\n",
        "import time\n",
        "\n",
        "from envs import OfflineEnv\n",
        "from recommender import DRRAgent\n",
        "\n",
        "import os\n",
        "\n",
        "ROOT_DIR = os.getcwd()\n",
        "DATA_DIR = os.path.join(ROOT_DIR, 'ml-1m/')\n",
        "STATE_SIZE = 10"
      ]
    },
    {
      "cell_type": "code",
      "execution_count": 5,
      "metadata": {
        "id": "b8aPaxXpNsz7",
        "scrolled": true
      },
      "outputs": [],
      "source": [
        "#Loading datasets\n",
        "ratings_list = [i.strip().split(\"::\") for i in open(os.path.join(DATA_DIR,'ratings.dat'), 'r').readlines()]\n",
        "users_list = [i.strip().split(\"::\") for i in open(os.path.join(DATA_DIR,'users.dat'), 'r').readlines()]\n",
        "movies_list = [i.strip().split(\"::\") for i in open(os.path.join(DATA_DIR,'movies.dat'),encoding='latin-1').readlines()]\n",
        "ratings_df = pd.DataFrame(ratings_list, columns = ['UserID', 'MovieID', 'Rating', 'Timestamp'], dtype = np.uint32)\n",
        "movies_df = pd.DataFrame(movies_list, columns = ['MovieID', 'Title', 'Genres'])\n",
        "movies_df['MovieID'] = movies_df['MovieID'].apply(pd.to_numeric)"
      ]
    },
    {
      "cell_type": "code",
      "source": [
        "from google.colab import drive\n",
        "drive.mount('/content/drive')"
      ],
      "metadata": {
        "colab": {
          "base_uri": "https://localhost:8080/"
        },
        "id": "bDsLxURyu6JE",
        "outputId": "7f5c13fe-5598-43d9-a4e3-7f91c588c421"
      },
      "execution_count": 6,
      "outputs": [
        {
          "output_type": "stream",
          "name": "stdout",
          "text": [
            "Mounted at /content/drive\n"
          ]
        }
      ]
    },
    {
      "cell_type": "code",
      "execution_count": 7,
      "metadata": {
        "scrolled": true,
        "id": "tthDE1zwSS2L"
      },
      "outputs": [],
      "source": [
        "# 电影 ID 作为电影名称\n",
        "movies_id_to_movies = {movie[0]: movie[1:] for movie in movies_list}"
      ]
    },
    {
      "cell_type": "code",
      "execution_count": 8,
      "metadata": {
        "colab": {
          "base_uri": "https://localhost:8080/"
        },
        "id": "XmnIOStQSS2N",
        "outputId": "374bb4bb-50b4-40e6-b03b-3f577dd98818"
      },
      "outputs": [
        {
          "output_type": "execute_result",
          "data": {
            "text/plain": [
              "3883"
            ]
          },
          "metadata": {},
          "execution_count": 8
        }
      ],
      "source": [
        "len(movies_list)"
      ]
    },
    {
      "cell_type": "code",
      "execution_count": 9,
      "metadata": {
        "colab": {
          "base_uri": "https://localhost:8080/",
          "height": 206
        },
        "id": "Di6ePVL9SS2O",
        "outputId": "0472ce32-26f3-47a0-cbd9-8a676867b054"
      },
      "outputs": [
        {
          "output_type": "execute_result",
          "data": {
            "text/html": [
              "\n",
              "  <div id=\"df-c6c4a6f6-332e-46ad-8ec7-ddd79bd1401f\">\n",
              "    <div class=\"colab-df-container\">\n",
              "      <div>\n",
              "<style scoped>\n",
              "    .dataframe tbody tr th:only-of-type {\n",
              "        vertical-align: middle;\n",
              "    }\n",
              "\n",
              "    .dataframe tbody tr th {\n",
              "        vertical-align: top;\n",
              "    }\n",
              "\n",
              "    .dataframe thead th {\n",
              "        text-align: right;\n",
              "    }\n",
              "</style>\n",
              "<table border=\"1\" class=\"dataframe\">\n",
              "  <thead>\n",
              "    <tr style=\"text-align: right;\">\n",
              "      <th></th>\n",
              "      <th>UserID</th>\n",
              "      <th>MovieID</th>\n",
              "      <th>Rating</th>\n",
              "      <th>Timestamp</th>\n",
              "    </tr>\n",
              "  </thead>\n",
              "  <tbody>\n",
              "    <tr>\n",
              "      <th>0</th>\n",
              "      <td>1</td>\n",
              "      <td>1193</td>\n",
              "      <td>5</td>\n",
              "      <td>978300760</td>\n",
              "    </tr>\n",
              "    <tr>\n",
              "      <th>1</th>\n",
              "      <td>1</td>\n",
              "      <td>661</td>\n",
              "      <td>3</td>\n",
              "      <td>978302109</td>\n",
              "    </tr>\n",
              "    <tr>\n",
              "      <th>2</th>\n",
              "      <td>1</td>\n",
              "      <td>914</td>\n",
              "      <td>3</td>\n",
              "      <td>978301968</td>\n",
              "    </tr>\n",
              "    <tr>\n",
              "      <th>3</th>\n",
              "      <td>1</td>\n",
              "      <td>3408</td>\n",
              "      <td>4</td>\n",
              "      <td>978300275</td>\n",
              "    </tr>\n",
              "    <tr>\n",
              "      <th>4</th>\n",
              "      <td>1</td>\n",
              "      <td>2355</td>\n",
              "      <td>5</td>\n",
              "      <td>978824291</td>\n",
              "    </tr>\n",
              "  </tbody>\n",
              "</table>\n",
              "</div>\n",
              "      <button class=\"colab-df-convert\" onclick=\"convertToInteractive('df-c6c4a6f6-332e-46ad-8ec7-ddd79bd1401f')\"\n",
              "              title=\"Convert this dataframe to an interactive table.\"\n",
              "              style=\"display:none;\">\n",
              "        \n",
              "  <svg xmlns=\"http://www.w3.org/2000/svg\" height=\"24px\"viewBox=\"0 0 24 24\"\n",
              "       width=\"24px\">\n",
              "    <path d=\"M0 0h24v24H0V0z\" fill=\"none\"/>\n",
              "    <path d=\"M18.56 5.44l.94 2.06.94-2.06 2.06-.94-2.06-.94-.94-2.06-.94 2.06-2.06.94zm-11 1L8.5 8.5l.94-2.06 2.06-.94-2.06-.94L8.5 2.5l-.94 2.06-2.06.94zm10 10l.94 2.06.94-2.06 2.06-.94-2.06-.94-.94-2.06-.94 2.06-2.06.94z\"/><path d=\"M17.41 7.96l-1.37-1.37c-.4-.4-.92-.59-1.43-.59-.52 0-1.04.2-1.43.59L10.3 9.45l-7.72 7.72c-.78.78-.78 2.05 0 2.83L4 21.41c.39.39.9.59 1.41.59.51 0 1.02-.2 1.41-.59l7.78-7.78 2.81-2.81c.8-.78.8-2.07 0-2.86zM5.41 20L4 18.59l7.72-7.72 1.47 1.35L5.41 20z\"/>\n",
              "  </svg>\n",
              "      </button>\n",
              "      \n",
              "  <style>\n",
              "    .colab-df-container {\n",
              "      display:flex;\n",
              "      flex-wrap:wrap;\n",
              "      gap: 12px;\n",
              "    }\n",
              "\n",
              "    .colab-df-convert {\n",
              "      background-color: #E8F0FE;\n",
              "      border: none;\n",
              "      border-radius: 50%;\n",
              "      cursor: pointer;\n",
              "      display: none;\n",
              "      fill: #1967D2;\n",
              "      height: 32px;\n",
              "      padding: 0 0 0 0;\n",
              "      width: 32px;\n",
              "    }\n",
              "\n",
              "    .colab-df-convert:hover {\n",
              "      background-color: #E2EBFA;\n",
              "      box-shadow: 0px 1px 2px rgba(60, 64, 67, 0.3), 0px 1px 3px 1px rgba(60, 64, 67, 0.15);\n",
              "      fill: #174EA6;\n",
              "    }\n",
              "\n",
              "    [theme=dark] .colab-df-convert {\n",
              "      background-color: #3B4455;\n",
              "      fill: #D2E3FC;\n",
              "    }\n",
              "\n",
              "    [theme=dark] .colab-df-convert:hover {\n",
              "      background-color: #434B5C;\n",
              "      box-shadow: 0px 1px 3px 1px rgba(0, 0, 0, 0.15);\n",
              "      filter: drop-shadow(0px 1px 2px rgba(0, 0, 0, 0.3));\n",
              "      fill: #FFFFFF;\n",
              "    }\n",
              "  </style>\n",
              "\n",
              "      <script>\n",
              "        const buttonEl =\n",
              "          document.querySelector('#df-c6c4a6f6-332e-46ad-8ec7-ddd79bd1401f button.colab-df-convert');\n",
              "        buttonEl.style.display =\n",
              "          google.colab.kernel.accessAllowed ? 'block' : 'none';\n",
              "\n",
              "        async function convertToInteractive(key) {\n",
              "          const element = document.querySelector('#df-c6c4a6f6-332e-46ad-8ec7-ddd79bd1401f');\n",
              "          const dataTable =\n",
              "            await google.colab.kernel.invokeFunction('convertToInteractive',\n",
              "                                                     [key], {});\n",
              "          if (!dataTable) return;\n",
              "\n",
              "          const docLinkHtml = 'Like what you see? Visit the ' +\n",
              "            '<a target=\"_blank\" href=https://colab.research.google.com/notebooks/data_table.ipynb>data table notebook</a>'\n",
              "            + ' to learn more about interactive tables.';\n",
              "          element.innerHTML = '';\n",
              "          dataTable['output_type'] = 'display_data';\n",
              "          await google.colab.output.renderOutput(dataTable, element);\n",
              "          const docLink = document.createElement('div');\n",
              "          docLink.innerHTML = docLinkHtml;\n",
              "          element.appendChild(docLink);\n",
              "        }\n",
              "      </script>\n",
              "    </div>\n",
              "  </div>\n",
              "  "
            ],
            "text/plain": [
              "  UserID MovieID Rating  Timestamp\n",
              "0      1    1193      5  978300760\n",
              "1      1     661      3  978302109\n",
              "2      1     914      3  978301968\n",
              "3      1    3408      4  978300275\n",
              "4      1    2355      5  978824291"
            ]
          },
          "metadata": {},
          "execution_count": 9
        }
      ],
      "source": [
        "ratings_df.head(5)"
      ]
    },
    {
      "cell_type": "code",
      "execution_count": 11,
      "metadata": {
        "id": "shKlj81dSS2O"
      },
      "outputs": [],
      "source": [
        "# # 检查用户选择的电影的分布\n",
        "# plt.figure(figsize=(20,10))\n",
        "# plt.hist(ratings_df[\"MovieID\"], bins=3883)\n",
        "# plt.show()"
      ]
    },
    {
      "cell_type": "code",
      "execution_count": 12,
      "metadata": {
        "colab": {
          "base_uri": "https://localhost:8080/"
        },
        "id": "xxqmbu3OSS2P",
        "outputId": "0a2e3746-d17d-4d67-d816-33c5b19f3498"
      },
      "outputs": [
        {
          "output_type": "execute_result",
          "data": {
            "text/plain": [
              "UserID       0\n",
              "MovieID      0\n",
              "Rating       0\n",
              "Timestamp    0\n",
              "dtype: int64"
            ]
          },
          "metadata": {},
          "execution_count": 12
        }
      ],
      "source": [
        "# 检查缺失值\n",
        "ratings_df.isnull().sum()"
      ]
    },
    {
      "cell_type": "code",
      "execution_count": 13,
      "metadata": {
        "scrolled": true,
        "colab": {
          "base_uri": "https://localhost:8080/"
        },
        "id": "XudIzT5OSS2Q",
        "outputId": "6e2b71df-42da-4692-87b3-f2c4f93ad1cf"
      },
      "outputs": [
        {
          "output_type": "stream",
          "name": "stdout",
          "text": [
            "True\n",
            "6040\n"
          ]
        }
      ],
      "source": [
        "# 检查最大值\n",
        "print(len(set(ratings_df[\"UserID\"])) == max([int(i) for i in set(ratings_df[\"UserID\"])]))\n",
        "print(max([int(i) for i in set(ratings_df[\"UserID\"])]))"
      ]
    },
    {
      "cell_type": "code",
      "execution_count": 14,
      "metadata": {
        "id": "LONubqYYSS2Q"
      },
      "outputs": [],
      "source": [
        "ratings_df = ratings_df.applymap(int)"
      ]
    },
    {
      "cell_type": "code",
      "execution_count": 15,
      "metadata": {
        "id": "3LYEWxnISS2S",
        "outputId": "b84fbd7e-6292-4c5b-a84c-73f58ad5b424",
        "colab": {
          "base_uri": "https://localhost:8080/"
        }
      },
      "outputs": [
        {
          "output_type": "execute_result",
          "data": {
            "text/plain": [
              "[]"
            ]
          },
          "metadata": {},
          "execution_count": 15
        }
      ],
      "source": [
        "# 按用户观看电影的顺序排列\n",
        "users_dict = {user : [] for user in set(ratings_df[\"UserID\"])}\n",
        "users_dict[1]"
      ]
    },
    {
      "cell_type": "code",
      "execution_count": 16,
      "metadata": {
        "id": "Tn8g0oySSS2S",
        "outputId": "69007160-4a5d-4791-b56c-420e13f3582c",
        "colab": {
          "base_uri": "https://localhost:8080/",
          "height": 206
        }
      },
      "outputs": [
        {
          "output_type": "execute_result",
          "data": {
            "text/html": [
              "\n",
              "  <div id=\"df-ff0243ca-cae8-4696-997a-b3cbefbb6e91\">\n",
              "    <div class=\"colab-df-container\">\n",
              "      <div>\n",
              "<style scoped>\n",
              "    .dataframe tbody tr th:only-of-type {\n",
              "        vertical-align: middle;\n",
              "    }\n",
              "\n",
              "    .dataframe tbody tr th {\n",
              "        vertical-align: top;\n",
              "    }\n",
              "\n",
              "    .dataframe thead th {\n",
              "        text-align: right;\n",
              "    }\n",
              "</style>\n",
              "<table border=\"1\" class=\"dataframe\">\n",
              "  <thead>\n",
              "    <tr style=\"text-align: right;\">\n",
              "      <th></th>\n",
              "      <th>UserID</th>\n",
              "      <th>MovieID</th>\n",
              "      <th>Rating</th>\n",
              "      <th>Timestamp</th>\n",
              "    </tr>\n",
              "  </thead>\n",
              "  <tbody>\n",
              "    <tr>\n",
              "      <th>1000138</th>\n",
              "      <td>6040</td>\n",
              "      <td>858</td>\n",
              "      <td>4</td>\n",
              "      <td>956703932</td>\n",
              "    </tr>\n",
              "    <tr>\n",
              "      <th>1000153</th>\n",
              "      <td>6040</td>\n",
              "      <td>2384</td>\n",
              "      <td>4</td>\n",
              "      <td>956703954</td>\n",
              "    </tr>\n",
              "    <tr>\n",
              "      <th>999873</th>\n",
              "      <td>6040</td>\n",
              "      <td>593</td>\n",
              "      <td>5</td>\n",
              "      <td>956703954</td>\n",
              "    </tr>\n",
              "    <tr>\n",
              "      <th>1000007</th>\n",
              "      <td>6040</td>\n",
              "      <td>1961</td>\n",
              "      <td>4</td>\n",
              "      <td>956703977</td>\n",
              "    </tr>\n",
              "    <tr>\n",
              "      <th>1000192</th>\n",
              "      <td>6040</td>\n",
              "      <td>2019</td>\n",
              "      <td>5</td>\n",
              "      <td>956703977</td>\n",
              "    </tr>\n",
              "  </tbody>\n",
              "</table>\n",
              "</div>\n",
              "      <button class=\"colab-df-convert\" onclick=\"convertToInteractive('df-ff0243ca-cae8-4696-997a-b3cbefbb6e91')\"\n",
              "              title=\"Convert this dataframe to an interactive table.\"\n",
              "              style=\"display:none;\">\n",
              "        \n",
              "  <svg xmlns=\"http://www.w3.org/2000/svg\" height=\"24px\"viewBox=\"0 0 24 24\"\n",
              "       width=\"24px\">\n",
              "    <path d=\"M0 0h24v24H0V0z\" fill=\"none\"/>\n",
              "    <path d=\"M18.56 5.44l.94 2.06.94-2.06 2.06-.94-2.06-.94-.94-2.06-.94 2.06-2.06.94zm-11 1L8.5 8.5l.94-2.06 2.06-.94-2.06-.94L8.5 2.5l-.94 2.06-2.06.94zm10 10l.94 2.06.94-2.06 2.06-.94-2.06-.94-.94-2.06-.94 2.06-2.06.94z\"/><path d=\"M17.41 7.96l-1.37-1.37c-.4-.4-.92-.59-1.43-.59-.52 0-1.04.2-1.43.59L10.3 9.45l-7.72 7.72c-.78.78-.78 2.05 0 2.83L4 21.41c.39.39.9.59 1.41.59.51 0 1.02-.2 1.41-.59l7.78-7.78 2.81-2.81c.8-.78.8-2.07 0-2.86zM5.41 20L4 18.59l7.72-7.72 1.47 1.35L5.41 20z\"/>\n",
              "  </svg>\n",
              "      </button>\n",
              "      \n",
              "  <style>\n",
              "    .colab-df-container {\n",
              "      display:flex;\n",
              "      flex-wrap:wrap;\n",
              "      gap: 12px;\n",
              "    }\n",
              "\n",
              "    .colab-df-convert {\n",
              "      background-color: #E8F0FE;\n",
              "      border: none;\n",
              "      border-radius: 50%;\n",
              "      cursor: pointer;\n",
              "      display: none;\n",
              "      fill: #1967D2;\n",
              "      height: 32px;\n",
              "      padding: 0 0 0 0;\n",
              "      width: 32px;\n",
              "    }\n",
              "\n",
              "    .colab-df-convert:hover {\n",
              "      background-color: #E2EBFA;\n",
              "      box-shadow: 0px 1px 2px rgba(60, 64, 67, 0.3), 0px 1px 3px 1px rgba(60, 64, 67, 0.15);\n",
              "      fill: #174EA6;\n",
              "    }\n",
              "\n",
              "    [theme=dark] .colab-df-convert {\n",
              "      background-color: #3B4455;\n",
              "      fill: #D2E3FC;\n",
              "    }\n",
              "\n",
              "    [theme=dark] .colab-df-convert:hover {\n",
              "      background-color: #434B5C;\n",
              "      box-shadow: 0px 1px 3px 1px rgba(0, 0, 0, 0.15);\n",
              "      filter: drop-shadow(0px 1px 2px rgba(0, 0, 0, 0.3));\n",
              "      fill: #FFFFFF;\n",
              "    }\n",
              "  </style>\n",
              "\n",
              "      <script>\n",
              "        const buttonEl =\n",
              "          document.querySelector('#df-ff0243ca-cae8-4696-997a-b3cbefbb6e91 button.colab-df-convert');\n",
              "        buttonEl.style.display =\n",
              "          google.colab.kernel.accessAllowed ? 'block' : 'none';\n",
              "\n",
              "        async function convertToInteractive(key) {\n",
              "          const element = document.querySelector('#df-ff0243ca-cae8-4696-997a-b3cbefbb6e91');\n",
              "          const dataTable =\n",
              "            await google.colab.kernel.invokeFunction('convertToInteractive',\n",
              "                                                     [key], {});\n",
              "          if (!dataTable) return;\n",
              "\n",
              "          const docLinkHtml = 'Like what you see? Visit the ' +\n",
              "            '<a target=\"_blank\" href=https://colab.research.google.com/notebooks/data_table.ipynb>data table notebook</a>'\n",
              "            + ' to learn more about interactive tables.';\n",
              "          element.innerHTML = '';\n",
              "          dataTable['output_type'] = 'display_data';\n",
              "          await google.colab.output.renderOutput(dataTable, element);\n",
              "          const docLink = document.createElement('div');\n",
              "          docLink.innerHTML = docLinkHtml;\n",
              "          element.appendChild(docLink);\n",
              "        }\n",
              "      </script>\n",
              "    </div>\n",
              "  </div>\n",
              "  "
            ],
            "text/plain": [
              "         UserID  MovieID  Rating  Timestamp\n",
              "1000138    6040      858       4  956703932\n",
              "1000153    6040     2384       4  956703954\n",
              "999873     6040      593       5  956703954\n",
              "1000007    6040     1961       4  956703977\n",
              "1000192    6040     2019       5  956703977"
            ]
          },
          "metadata": {},
          "execution_count": 16
        }
      ],
      "source": [
        "# 按时间排序\n",
        "ratings_df = ratings_df.sort_values(by='Timestamp', ascending=True)\n",
        "ratings_df.head(5)"
      ]
    },
    {
      "cell_type": "code",
      "execution_count": 17,
      "metadata": {
        "id": "HKfV2MU_SS2T"
      },
      "outputs": [],
      "source": [
        "# 将（电影，评分）对放入用户字典中\n",
        "# 每个用户的电影历史长度仅计算评分为 4 或更高的电影。\n",
        "ratings_df_gen = ratings_df.iterrows()\n",
        "users_dict_for_history_len = {user : [] for user in set(ratings_df[\"UserID\"])}\n",
        "for data in ratings_df_gen:\n",
        "    users_dict[data[1]['UserID']].append((data[1]['MovieID'], data[1]['Rating']))\n",
        "    if data[1]['Rating'] >= 4:\n",
        "        users_dict_for_history_len[data[1]['UserID']].append((data[1]['MovieID'], data[1]['Rating']))"
      ]
    },
    {
      "cell_type": "code",
      "execution_count": 18,
      "metadata": {
        "scrolled": true,
        "id": "Ya3_Ab91SS2U"
      },
      "outputs": [],
      "source": [
        "# 每个用户的电影历史长度\n",
        "users_history_lens = [len(users_dict_for_history_len[u]) for u in set(ratings_df[\"UserID\"])]"
      ]
    },
    {
      "cell_type": "code",
      "execution_count": 19,
      "metadata": {
        "id": "hG1zUX8JSS2U",
        "outputId": "637d0d42-b335-48fa-fcdc-94d482c4c244",
        "colab": {
          "base_uri": "https://localhost:8080/"
        }
      },
      "outputs": [
        {
          "output_type": "execute_result",
          "data": {
            "text/plain": [
              "6040"
            ]
          },
          "metadata": {},
          "execution_count": 19
        }
      ],
      "source": [
        "len(users_history_lens)"
      ]
    },
    {
      "cell_type": "code",
      "execution_count": 20,
      "metadata": {
        "scrolled": true,
        "id": "SYTbbnMxSS2V",
        "outputId": "13280085-dac8-4117-d607-8cfa99bfe9b3",
        "colab": {
          "base_uri": "https://localhost:8080/"
        }
      },
      "outputs": [
        {
          "output_type": "execute_result",
          "data": {
            "text/plain": [
              "[(3186, 4),\n",
              " (1721, 4),\n",
              " (1270, 5),\n",
              " (1022, 5),\n",
              " (2340, 3),\n",
              " (1836, 5),\n",
              " (3408, 4),\n",
              " (1207, 4),\n",
              " (2804, 5),\n",
              " (260, 4),\n",
              " (720, 3),\n",
              " (1193, 5),\n",
              " (919, 4),\n",
              " (608, 4),\n",
              " (2692, 4),\n",
              " (1961, 5),\n",
              " (2028, 5),\n",
              " (3105, 5),\n",
              " (938, 4),\n",
              " (1035, 5),\n",
              " (1962, 4),\n",
              " (1028, 5),\n",
              " (2018, 4),\n",
              " (150, 5),\n",
              " (1097, 4),\n",
              " (914, 3),\n",
              " (1287, 5),\n",
              " (2797, 4),\n",
              " (1246, 4),\n",
              " (2762, 4),\n",
              " (661, 3),\n",
              " (2918, 4),\n",
              " (531, 4),\n",
              " (3114, 4),\n",
              " (2791, 4),\n",
              " (1029, 5),\n",
              " (2321, 3),\n",
              " (1197, 3),\n",
              " (594, 4),\n",
              " (2398, 4),\n",
              " (1545, 4),\n",
              " (527, 5),\n",
              " (745, 3),\n",
              " (595, 5),\n",
              " (588, 4),\n",
              " (1, 5),\n",
              " (2687, 3),\n",
              " (783, 4),\n",
              " (2294, 4),\n",
              " (2355, 5),\n",
              " (1907, 4),\n",
              " (1566, 4),\n",
              " (48, 5)]"
            ]
          },
          "metadata": {},
          "execution_count": 20
        }
      ],
      "source": [
        "users_dict[1]"
      ]
    },
    {
      "cell_type": "code",
      "execution_count": 21,
      "metadata": {
        "id": "-31mRl6mSS2V"
      },
      "outputs": [],
      "source": [
        "np.save(\"./data/user_dict.npy\", users_dict)\n",
        "np.save(\"./data/users_histroy_len.npy\", users_history_lens)"
      ]
    },
    {
      "cell_type": "code",
      "execution_count": 22,
      "metadata": {
        "id": "HiNybSOhSS2W"
      },
      "outputs": [],
      "source": [
        "users_num = max(ratings_df[\"UserID\"])+1\n",
        "items_num = max(ratings_df[\"MovieID\"])+1"
      ]
    },
    {
      "cell_type": "code",
      "execution_count": 23,
      "metadata": {
        "scrolled": false,
        "id": "xyfs_GopSS2X",
        "outputId": "43f752e6-bd75-48d4-88ab-f2ef8442193d",
        "colab": {
          "base_uri": "https://localhost:8080/"
        }
      },
      "outputs": [
        {
          "output_type": "stream",
          "name": "stdout",
          "text": [
            "6041 3953\n"
          ]
        }
      ],
      "source": [
        "print(users_num, items_num)"
      ]
    },
    {
      "cell_type": "markdown",
      "metadata": {
        "id": "P6zyaA5LSS2X"
      },
      "source": [
        "### Training setting"
      ]
    },
    {
      "cell_type": "code",
      "execution_count": 24,
      "metadata": {
        "id": "mSkaZ4vHSS2Y",
        "outputId": "55409a11-39da-4e87-8245-f611d108b31f",
        "colab": {
          "base_uri": "https://localhost:8080/"
        }
      },
      "outputs": [
        {
          "output_type": "stream",
          "name": "stdout",
          "text": [
            "4832 3953\n"
          ]
        }
      ],
      "source": [
        "train_users_num = int(users_num * 0.8)\n",
        "train_items_num = items_num\n",
        "print(train_users_num, train_items_num)"
      ]
    },
    {
      "cell_type": "code",
      "execution_count": 25,
      "metadata": {
        "id": "haKRsVzBSS2Y",
        "outputId": "e350bf3a-7abd-4dcf-8a34-573368feb6d2",
        "colab": {
          "base_uri": "https://localhost:8080/"
        }
      },
      "outputs": [
        {
          "output_type": "stream",
          "name": "stdout",
          "text": [
            "4832 4832\n"
          ]
        }
      ],
      "source": [
        "train_users_dict = {k:users_dict[k] for k in range(1, train_users_num+1)}\n",
        "train_users_history_lens = users_history_lens[:train_users_num]\n",
        "print(len(train_users_dict),len(train_users_history_lens))"
      ]
    },
    {
      "cell_type": "markdown",
      "metadata": {
        "id": "aom3gQ7GSS2Z"
      },
      "source": [
        "### Evaluating setting"
      ]
    },
    {
      "cell_type": "code",
      "execution_count": 26,
      "metadata": {
        "id": "AUwtLmN6SS2Z",
        "outputId": "937a2936-4040-4cd7-ac7d-616b404348d0",
        "colab": {
          "base_uri": "https://localhost:8080/"
        }
      },
      "outputs": [
        {
          "output_type": "stream",
          "name": "stdout",
          "text": [
            "1208 3953\n"
          ]
        }
      ],
      "source": [
        "eval_users_num = int(users_num * 0.2)\n",
        "eval_items_num = items_num\n",
        "print(eval_users_num, eval_items_num)"
      ]
    },
    {
      "cell_type": "code",
      "execution_count": 27,
      "metadata": {
        "id": "59v7I-dtSS2a",
        "outputId": "3311ce0f-e683-46d5-89e0-6df127658a54",
        "colab": {
          "base_uri": "https://localhost:8080/"
        }
      },
      "outputs": [
        {
          "output_type": "stream",
          "name": "stdout",
          "text": [
            "1208 1208\n"
          ]
        }
      ],
      "source": [
        "eval_users_dict = {k:users_dict[k] for k in range(users_num-eval_users_num, users_num)}\n",
        "eval_users_history_lens = users_history_lens[-eval_users_num:]\n",
        "print(len(eval_users_dict),len(eval_users_history_lens))"
      ]
    },
    {
      "cell_type": "markdown",
      "metadata": {
        "id": "QNpf8uA1SS2b"
      },
      "source": [
        "### 准备好\n",
        "users_dict, users_history_len, movies_id_to_movies, sers_num, items_num"
      ]
    },
    {
      "cell_type": "markdown",
      "metadata": {
        "id": "V94IqVcaSS2b"
      },
      "source": [
        "### Evalutation"
      ]
    },
    {
      "cell_type": "code",
      "execution_count": 29,
      "metadata": {
        "id": "sr1yv7StSS2c"
      },
      "outputs": [],
      "source": [
        "def evaluate(recommender, env, check_movies = False, top_k=False):\n",
        "\n",
        "    # episodic reward 重启\n",
        "    episode_reward = 0\n",
        "    steps = 0\n",
        "    mean_precision = 0\n",
        "    mean_ndcg = 0\n",
        "    # Environment 重启\n",
        "    user_id, items_ids, done = env.reset()\n",
        "    if check_movies:\n",
        "        print(f'user_id : {user_id}, rated_items_length:{len(env.user_items)}')\n",
        "        print('items : \\n', np.array(env.get_items_names(items_ids)))\n",
        "\n",
        "    while not done:\n",
        "\n",
        "        # Observe current state & Find action\n",
        "        ## Embedding\n",
        "        user_eb = recommender.embedding_network.get_layer('user_embedding')(np.array(user_id))\n",
        "        items_eb = recommender.embedding_network.get_layer('movie_embedding')(np.array(items_ids))\n",
        "        ## 状态输出到 SRM\n",
        "        state = recommender.srm_ave([np.expand_dims(user_eb, axis=0), np.expand_dims(items_eb, axis=0)])\n",
        "        ## Action(ranking score) \n",
        "        action = recommender.actor.network(state)\n",
        "        ## Item \n",
        "        recommended_item = recommender.recommend_item(action, env.recommended_items, top_k=top_k)\n",
        "        if check_movies:\n",
        "            print(f'recommended items ids : {recommended_item}')\n",
        "            print(f'recommened items : \\n {np.array(env.get_items_names(recommended_item), dtype=object)}')\n",
        "        # Calculate reward & observe new state (in env)\n",
        "        ## Step\n",
        "        next_items_ids, reward, done, _ = env.step(recommended_item, top_k=top_k)\n",
        "        if top_k:\n",
        "            correct_list = [1 if r > 0 else 0 for r in reward]\n",
        "            # ndcg\n",
        "            dcg, idcg = calculate_ndcg(correct_list, [1 for _ in range(len(reward))])\n",
        "            mean_ndcg += dcg/idcg\n",
        "            \n",
        "            #precision\n",
        "            correct_num = top_k-correct_list.count(0)\n",
        "            mean_precision += correct_num/top_k\n",
        "            \n",
        "        reward = np.sum(reward)\n",
        "        items_ids = next_items_ids\n",
        "        episode_reward += reward\n",
        "        steps += 1\n",
        "        \n",
        "        if check_movies:\n",
        "            print(f'precision : {correct_num/top_k}, dcg : {dcg:0.3f}, idcg : {idcg:0.3f}, ndcg : {dcg/idcg:0.3f}, reward : {reward}')\n",
        "            print()\n",
        "        break\n",
        "    \n",
        "    if check_movies:\n",
        "        print(f'precision : {mean_precision/steps}, ngcg : {mean_ndcg/steps}, episode_reward : {episode_reward}')\n",
        "        print()\n",
        "    \n",
        "    return mean_precision/steps, mean_ndcg/steps\n",
        "\n",
        "def calculate_ndcg(rel, irel):\n",
        "    dcg = 0\n",
        "    idcg = 0\n",
        "    rel = [1 if r>0 else 0 for r in rel]\n",
        "    for i, (r, ir) in enumerate(zip(rel, irel)):\n",
        "        dcg += (r)/np.log2(i+2)\n",
        "        idcg += (ir)/np.log2(i+2)\n",
        "    return dcg, idcg"
      ]
    },
    {
      "cell_type": "code",
      "execution_count": 30,
      "metadata": {
        "id": "WsiQE1G0SS2c"
      },
      "outputs": [],
      "source": [
        "tf.keras.backend.set_floatx('float64')"
      ]
    },
    {
      "cell_type": "code",
      "execution_count": 31,
      "metadata": {
        "scrolled": false,
        "id": "ZjVOIP5_SS2c",
        "outputId": "e2866c48-68cd-4d24-9c29-0ba9d8540fde",
        "colab": {
          "base_uri": "https://localhost:8080/"
        }
      },
      "outputs": [
        {
          "output_type": "stream",
          "name": "stdout",
          "text": [
            "precision@10 : 0.39817880794702076, ndcg@10 : 0.3805991142275761\n",
            "precision@10 : 0.39817880794702076, ndcg@10 : 0.3805991142275761\n"
          ]
        }
      ],
      "source": [
        "sum_precision = 0\n",
        "sum_ndcg = 0\n",
        "TOP_K = 10\n",
        "\n",
        "for user_id in eval_users_dict.keys():\n",
        "    env = OfflineEnv(eval_users_dict, users_history_lens, movies_id_to_movies, STATE_SIZE, fix_user_id=user_id)\n",
        "    recommender = DRRAgent(env, users_num, items_num, STATE_SIZE)\n",
        "    recommender.actor.build_networks()\n",
        "    recommender.critic.build_networks()\n",
        "    recommender.load_model('/content/drive/MyDrive/RL_Reco/save_weights/actor_3000_fixed.h5', \n",
        "                           '/content/drive/MyDrive/RL_Reco/save_weights/critic_3000_fixed.h5')\n",
        "    precision, ndcg = evaluate(recommender, env, top_k=TOP_K)\n",
        "    sum_precision += precision\n",
        "    sum_ndcg += ndcg\n",
        "    \n",
        "print(f'precision@{TOP_K} : {sum_precision/len(eval_users_dict)}, ndcg@{TOP_K} : {sum_ndcg/len(eval_users_dict)}')"
      ]
    },
    {
      "cell_type": "code",
      "execution_count": 36,
      "metadata": {
        "id": "hPxXlnvtSS2d",
        "outputId": "e7c35e6f-3463-4195-8d9d-ebf3c0aa7aec",
        "colab": {
          "base_uri": "https://localhost:8080/"
        }
      },
      "outputs": [
        {
          "output_type": "stream",
          "name": "stdout",
          "text": [
            "precision@10 : 0.39875827814569614, ndcg@10 : 0.38257738152305487\n"
          ]
        }
      ],
      "source": [
        "sum_precision = 0\n",
        "sum_ndcg = 0\n",
        "TOP_K = 10\n",
        "\n",
        "for user_id in eval_users_dict.keys():\n",
        "    env = OfflineEnv(eval_users_dict, users_history_lens, movies_id_to_movies, STATE_SIZE, fix_user_id=user_id)\n",
        "    recommender = DRRAgent(env, users_num, items_num, STATE_SIZE)\n",
        "    recommender.actor.build_networks()\n",
        "    recommender.critic.build_networks()\n",
        "    recommender.load_model('/content/drive/MyDrive/RL_Reco/save_weights/actor_3000_fixed.h5', \n",
        "                           '/content/drive/MyDrive/RL_Reco/save_weights/critic_3000_fixed.h5')\n",
        "    precision, ndcg = evaluate(recommender, env, top_k=10)\n",
        "    sum_precision += precision\n",
        "    sum_ndcg += ndcg\n",
        "    \n",
        "print(f'precision@{TOP_K} : {sum_precision/len(eval_users_dict)}, ndcg@{TOP_K} : {sum_ndcg/len(eval_users_dict)}')"
      ]
    },
    {
      "cell_type": "code",
      "execution_count": null,
      "metadata": {
        "id": "Ts5xAaUZSS2d"
      },
      "outputs": [],
      "source": [
        ""
      ]
    },
    {
      "cell_type": "code",
      "execution_count": null,
      "metadata": {
        "id": "g4rk4b1qSS2d"
      },
      "outputs": [],
      "source": [
        ""
      ]
    },
    {
      "cell_type": "code",
      "execution_count": null,
      "metadata": {
        "id": "ihJwGn6nSS2e"
      },
      "outputs": [],
      "source": [
        ""
      ]
    },
    {
      "cell_type": "code",
      "execution_count": null,
      "metadata": {
        "id": "deabbuaDSS2e"
      },
      "outputs": [],
      "source": [
        ""
      ]
    }
  ],
  "metadata": {
    "colab": {
      "collapsed_sections": [],
      "machine_shape": "hm",
      "name": "evaluation.ipynb",
      "provenance": []
    },
    "kernelspec": {
      "display_name": "Python 3",
      "language": "python",
      "name": "python3"
    },
    "language_info": {
      "codemirror_mode": {
        "name": "ipython",
        "version": 3
      },
      "file_extension": ".py",
      "mimetype": "text/x-python",
      "name": "python",
      "nbconvert_exporter": "python",
      "pygments_lexer": "ipython3",
      "version": "3.8.5"
    },
    "accelerator": "GPU"
  },
  "nbformat": 4,
  "nbformat_minor": 0
}
